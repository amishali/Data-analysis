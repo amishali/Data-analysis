{
  "nbformat": 4,
  "nbformat_minor": 0,
  "metadata": {
    "colab": {
      "name": "pythonwk3ip.ipynb",
      "provenance": [],
      "authorship_tag": "ABX9TyMqLeWszBTrK/w0F1PY3KVb",
      "include_colab_link": true
    },
    "kernelspec": {
      "name": "python3",
      "display_name": "Python 3"
    }
  },
  "cells": [
    {
      "cell_type": "markdown",
      "metadata": {
        "id": "view-in-github",
        "colab_type": "text"
      },
      "source": [
        "<a href=\"https://colab.research.google.com/github/amishali/Data-analysis/blob/master/pythonwk3ip.ipynb\" target=\"_parent\"><img src=\"https://colab.research.google.com/assets/colab-badge.svg\" alt=\"Open In Colab\"/></a>"
      ]
    },
    {
      "cell_type": "markdown",
      "metadata": {
        "id": "weJa5ftsPyW8",
        "colab_type": "text"
      },
      "source": [
        "# ***DATASET***"
      ]
    },
    {
      "cell_type": "markdown",
      "metadata": {
        "id": "F104O3xCvMIZ",
        "colab_type": "text"
      },
      "source": [
        " \n",
        "\n",
        "cells_geo_description.xlsx https://drive.google.com/file/d/1-rIM5ihDu79RaH7rAs-d-7SQSAQhrY9N/view?pli=1\n",
        "\n",
        " \n",
        "cells_geo.csv https://drive.google.com/file/d/1ABZux280OjL3yWcOn8BDA_f5QsyO0QPU/view?pli=1\n",
        "\n",
        "CDR_description.xlsx https://drive.google.com/file/d/1cVoNXl25IO5-_yQk97ThdeqhE6yw8YTD/view?pli=1\n",
        "\n",
        "\n",
        "CDR 20120507 [http://bit.ly/TelecomDataset1]\n",
        "\n",
        "CDR 20120508 [http://bit.ly/TelecomDataset2]\n",
        "\n",
        "CDR 20120509 [http://bit.ly/TelecomDataset3]"
      ]
    },
    {
      "cell_type": "markdown",
      "metadata": {
        "id": "X1a8cpqMDKiu",
        "colab_type": "text"
      },
      "source": [
        "# ***importing the libraries***"
      ]
    },
    {
      "cell_type": "code",
      "metadata": {
        "id": "PZiypoATwHo_",
        "colab_type": "code",
        "colab": {}
      },
      "source": [
        "# Pands for data manipulation and analysis\n",
        "import pandas as pd"
      ],
      "execution_count": 62,
      "outputs": []
    },
    {
      "cell_type": "markdown",
      "metadata": {
        "id": "AspISJoBDel0",
        "colab_type": "text"
      },
      "source": [
        "# **loading the dataset**"
      ]
    },
    {
      "cell_type": "code",
      "metadata": {
        "id": "DGSm4NEC03aP",
        "colab_type": "code",
        "colab": {
          "base_uri": "https://localhost:8080/",
          "height": 306
        },
        "outputId": "a6262efc-bdb6-4204-c4b5-112359d1fa17"
      },
      "source": [
        "\n",
        "df = pd.read_csv(\"cells_geo.csv\" , header=1 ,names = ['City','Status','Locality','Geographical_Zone','Zone_Name','Longitude','Latitude','Region','Area','Cell_ID','Site_ID'])\n",
        "\n",
        "df.head()"
      ],
      "execution_count": 8,
      "outputs": [
        {
          "output_type": "execute_result",
          "data": {
            "text/html": [
              "<div>\n",
              "<style scoped>\n",
              "    .dataframe tbody tr th:only-of-type {\n",
              "        vertical-align: middle;\n",
              "    }\n",
              "\n",
              "    .dataframe tbody tr th {\n",
              "        vertical-align: top;\n",
              "    }\n",
              "\n",
              "    .dataframe thead th {\n",
              "        text-align: right;\n",
              "    }\n",
              "</style>\n",
              "<table border=\"1\" class=\"dataframe\">\n",
              "  <thead>\n",
              "    <tr style=\"text-align: right;\">\n",
              "      <th></th>\n",
              "      <th>City</th>\n",
              "      <th>Status</th>\n",
              "      <th>Locality</th>\n",
              "      <th>Geographical_Zone</th>\n",
              "      <th>Zone_Name</th>\n",
              "      <th>Longitude</th>\n",
              "      <th>Latitude</th>\n",
              "      <th>Region</th>\n",
              "      <th>Area</th>\n",
              "      <th>Cell_ID</th>\n",
              "      <th>Site_ID</th>\n",
              "    </tr>\n",
              "  </thead>\n",
              "  <tbody>\n",
              "    <tr>\n",
              "      <th>1</th>\n",
              "      <td>ADJAME</td>\n",
              "      <td>In Service</td>\n",
              "      <td>ABIDJAN</td>\n",
              "      <td>\"Abidjan_EST</td>\n",
              "      <td>AGBANNEW</td>\n",
              "      <td>-4.000667</td>\n",
              "      <td>5.368194</td>\n",
              "      <td>LAGUNE</td>\n",
              "      <td>NaN</td>\n",
              "      <td>1502501d78</td>\n",
              "      <td>0bb492ef17</td>\n",
              "    </tr>\n",
              "    <tr>\n",
              "      <th>2</th>\n",
              "      <td>ADJAME</td>\n",
              "      <td>In Service</td>\n",
              "      <td>ABIDJAN</td>\n",
              "      <td>\"Abidjan_EST</td>\n",
              "      <td>AGBANNEW</td>\n",
              "      <td>-4.000667</td>\n",
              "      <td>5.368194</td>\n",
              "      <td>LAGUNE</td>\n",
              "      <td>NaN</td>\n",
              "      <td>0c2e182a0c</td>\n",
              "      <td>0bb492ef17</td>\n",
              "    </tr>\n",
              "    <tr>\n",
              "      <th>3</th>\n",
              "      <td>ASSINIE</td>\n",
              "      <td>In Service</td>\n",
              "      <td>INTERIEUR</td>\n",
              "      <td>Grand-EST</td>\n",
              "      <td>ASSINIE\"</td>\n",
              "      <td>-3.488467</td>\n",
              "      <td>5.158761</td>\n",
              "      <td>SUD COMOE</td>\n",
              "      <td>NaN</td>\n",
              "      <td>69bdfc69fd</td>\n",
              "      <td>8a1e6ce31f</td>\n",
              "    </tr>\n",
              "    <tr>\n",
              "      <th>4</th>\n",
              "      <td>ASSINIE</td>\n",
              "      <td>In Service</td>\n",
              "      <td>INTERIEUR</td>\n",
              "      <td>Grand-EST</td>\n",
              "      <td>ASSINIE\"</td>\n",
              "      <td>-3.488467</td>\n",
              "      <td>5.158761</td>\n",
              "      <td>SUD COMOE</td>\n",
              "      <td>NaN</td>\n",
              "      <td>7a1029d2ab</td>\n",
              "      <td>8a1e6ce31f</td>\n",
              "    </tr>\n",
              "    <tr>\n",
              "      <th>5</th>\n",
              "      <td>ASSINIE</td>\n",
              "      <td>In Service</td>\n",
              "      <td>INTERIEUR</td>\n",
              "      <td>Grand-EST</td>\n",
              "      <td>ASSINIE\"</td>\n",
              "      <td>-3.488467</td>\n",
              "      <td>5.158761</td>\n",
              "      <td>SUD COMOE</td>\n",
              "      <td>NaN</td>\n",
              "      <td>0b4f56438f</td>\n",
              "      <td>8a1e6ce31f</td>\n",
              "    </tr>\n",
              "  </tbody>\n",
              "</table>\n",
              "</div>"
            ],
            "text/plain": [
              "      City      Status   Locality  ... Area     Cell_ID     Site_ID\n",
              "1   ADJAME  In Service    ABIDJAN  ...  NaN  1502501d78  0bb492ef17\n",
              "2   ADJAME  In Service    ABIDJAN  ...  NaN  0c2e182a0c  0bb492ef17\n",
              "3  ASSINIE  In Service  INTERIEUR  ...  NaN  69bdfc69fd  8a1e6ce31f\n",
              "4  ASSINIE  In Service  INTERIEUR  ...  NaN  7a1029d2ab  8a1e6ce31f\n",
              "5  ASSINIE  In Service  INTERIEUR  ...  NaN  0b4f56438f  8a1e6ce31f\n",
              "\n",
              "[5 rows x 11 columns]"
            ]
          },
          "metadata": {
            "tags": []
          },
          "execution_count": 8
        }
      ]
    },
    {
      "cell_type": "code",
      "metadata": {
        "id": "VLaNvp6fyGwu",
        "colab_type": "code",
        "colab": {
          "base_uri": "https://localhost:8080/",
          "height": 221
        },
        "outputId": "53223231-2469-46c9-e100-849c243cb3ed"
      },
      "source": [
        "#Import CDR 20120507\n",
        "#Imported locally as it's noted to be faster than imported from direct URL.\n",
        "#Skipped row 0 which has headers. Renamed columns for ease of understanding as some column names are in French\n",
        "\n",
        "\n",
        "df1 = pd.read_csv(\"Telcom_dataset.csv\" , header=1 ,names = ['Product','Value','Date_Time','Cell_On_Site','DW_A_Number','DW_B_Number','Country_A','Country_B','Cell_ID','Site_ID'])\n",
        "\n",
        "df1.head()\n"
      ],
      "execution_count": 78,
      "outputs": [
        {
          "output_type": "execute_result",
          "data": {
            "text/html": [
              "<div>\n",
              "<style scoped>\n",
              "    .dataframe tbody tr th:only-of-type {\n",
              "        vertical-align: middle;\n",
              "    }\n",
              "\n",
              "    .dataframe tbody tr th {\n",
              "        vertical-align: top;\n",
              "    }\n",
              "\n",
              "    .dataframe thead th {\n",
              "        text-align: right;\n",
              "    }\n",
              "</style>\n",
              "<table border=\"1\" class=\"dataframe\">\n",
              "  <thead>\n",
              "    <tr style=\"text-align: right;\">\n",
              "      <th></th>\n",
              "      <th>Product</th>\n",
              "      <th>Value</th>\n",
              "      <th>Date_Time</th>\n",
              "      <th>Cell_On_Site</th>\n",
              "      <th>DW_A_Number</th>\n",
              "      <th>DW_B_Number</th>\n",
              "      <th>Country_A</th>\n",
              "      <th>Country_B</th>\n",
              "      <th>Cell_ID</th>\n",
              "      <th>Site_ID</th>\n",
              "    </tr>\n",
              "  </thead>\n",
              "  <tbody>\n",
              "    <tr>\n",
              "      <th>0</th>\n",
              "      <td>sms</td>\n",
              "      <td>0</td>\n",
              "      <td>05:25.0</td>\n",
              "      <td>0</td>\n",
              "      <td>7a54a6eaee19e65</td>\n",
              "      <td>93343ba6e41af95</td>\n",
              "      <td>19e2e</td>\n",
              "      <td>19e2e</td>\n",
              "      <td>/+cKZKIp41</td>\n",
              "      <td>/+cKZKIp41</td>\n",
              "    </tr>\n",
              "    <tr>\n",
              "      <th>1</th>\n",
              "      <td>sms</td>\n",
              "      <td>25</td>\n",
              "      <td>05:41.0</td>\n",
              "      <td>0</td>\n",
              "      <td>6008887b0207d82</td>\n",
              "      <td>7aacc9709ce0a20</td>\n",
              "      <td>19e2e</td>\n",
              "      <td>19e2e</td>\n",
              "      <td>/u0FSD+ahi</td>\n",
              "      <td>/u0FSD+ahi</td>\n",
              "    </tr>\n",
              "    <tr>\n",
              "      <th>2</th>\n",
              "      <td>Voice</td>\n",
              "      <td>56</td>\n",
              "      <td>05:42.0</td>\n",
              "      <td>1</td>\n",
              "      <td>7370032e20f4e96</td>\n",
              "      <td>6af4a60e74c91d3</td>\n",
              "      <td>19e2e</td>\n",
              "      <td>19e2e</td>\n",
              "      <td>#NAME?</td>\n",
              "      <td>#NAME?</td>\n",
              "    </tr>\n",
              "    <tr>\n",
              "      <th>3</th>\n",
              "      <td>Voice</td>\n",
              "      <td>14</td>\n",
              "      <td>06:29.0</td>\n",
              "      <td>1</td>\n",
              "      <td>966ba4656e38e62</td>\n",
              "      <td>02aa736ee555d5c</td>\n",
              "      <td>19e2e</td>\n",
              "      <td>19e2e</td>\n",
              "      <td>051KhYDCpv</td>\n",
              "      <td>051KhYDCpv</td>\n",
              "    </tr>\n",
              "    <tr>\n",
              "      <th>4</th>\n",
              "      <td>data</td>\n",
              "      <td>0</td>\n",
              "      <td>07:26.0</td>\n",
              "      <td>_</td>\n",
              "      <td>f71825ca6e623f9</td>\n",
              "      <td>5a4dc9e82deb309</td>\n",
              "      <td>19e2e</td>\n",
              "      <td>OTHER</td>\n",
              "      <td>/lrUXVGVcN</td>\n",
              "      <td>/lrUXVGVcN</td>\n",
              "    </tr>\n",
              "  </tbody>\n",
              "</table>\n",
              "</div>"
            ],
            "text/plain": [
              "  Product  Value Date_Time  ... Country_B     Cell_ID     Site_ID\n",
              "0     sms      0   05:25.0  ...     19e2e  /+cKZKIp41  /+cKZKIp41\n",
              "1     sms     25   05:41.0  ...     19e2e  /u0FSD+ahi  /u0FSD+ahi\n",
              "2   Voice     56   05:42.0  ...     19e2e      #NAME?      #NAME?\n",
              "3   Voice     14   06:29.0  ...     19e2e  051KhYDCpv  051KhYDCpv\n",
              "4    data      0   07:26.0  ...     OTHER  /lrUXVGVcN  /lrUXVGVcN\n",
              "\n",
              "[5 rows x 10 columns]"
            ]
          },
          "metadata": {
            "tags": []
          },
          "execution_count": 78
        }
      ]
    },
    {
      "cell_type": "code",
      "metadata": {
        "id": "uQw8Tmflx8s_",
        "colab_type": "code",
        "colab": {
          "base_uri": "https://localhost:8080/",
          "height": 221
        },
        "outputId": "068ff228-a9a5-4cd1-866b-132b95fc0e50"
      },
      "source": [
        "#Import CDR 20120508\n",
        "#Skipped row 0 which has headers. Renamed columns for ease of understanding as some column names are in French\n",
        "\n",
        "df2 = pd.read_csv(\"Telcom_dataset2.csv\" , header=1 ,names = ['Product','Value','Date_Time','Cell_On_Site','DW_A_Number','DW_B_Number','Country_A','Country_B','Cell_ID','Site_ID'])\n",
        "\n",
        "df2.head()"
      ],
      "execution_count": 79,
      "outputs": [
        {
          "output_type": "execute_result",
          "data": {
            "text/html": [
              "<div>\n",
              "<style scoped>\n",
              "    .dataframe tbody tr th:only-of-type {\n",
              "        vertical-align: middle;\n",
              "    }\n",
              "\n",
              "    .dataframe tbody tr th {\n",
              "        vertical-align: top;\n",
              "    }\n",
              "\n",
              "    .dataframe thead th {\n",
              "        text-align: right;\n",
              "    }\n",
              "</style>\n",
              "<table border=\"1\" class=\"dataframe\">\n",
              "  <thead>\n",
              "    <tr style=\"text-align: right;\">\n",
              "      <th></th>\n",
              "      <th>Product</th>\n",
              "      <th>Value</th>\n",
              "      <th>Date_Time</th>\n",
              "      <th>Cell_On_Site</th>\n",
              "      <th>DW_A_Number</th>\n",
              "      <th>DW_B_Number</th>\n",
              "      <th>Country_A</th>\n",
              "      <th>Country_B</th>\n",
              "      <th>Cell_ID</th>\n",
              "      <th>Site_ID</th>\n",
              "    </tr>\n",
              "  </thead>\n",
              "  <tbody>\n",
              "    <tr>\n",
              "      <th>0</th>\n",
              "      <td>Voice</td>\n",
              "      <td>0</td>\n",
              "      <td>03:44.0</td>\n",
              "      <td>1</td>\n",
              "      <td>ff16d6ac74c1c64</td>\n",
              "      <td>87d87309c15a8c9</td>\n",
              "      <td>19e2e</td>\n",
              "      <td>19e2e</td>\n",
              "      <td>+854AcBQT2</td>\n",
              "      <td>+854AcBQT2</td>\n",
              "    </tr>\n",
              "    <tr>\n",
              "      <th>1</th>\n",
              "      <td>sms</td>\n",
              "      <td>0</td>\n",
              "      <td>04:06.0</td>\n",
              "      <td>0</td>\n",
              "      <td>98d9f2fb5ff624b</td>\n",
              "      <td>93343ba6e41af95</td>\n",
              "      <td>19e2e</td>\n",
              "      <td>19e2e</td>\n",
              "      <td>#NAME?</td>\n",
              "      <td>#NAME?</td>\n",
              "    </tr>\n",
              "    <tr>\n",
              "      <th>2</th>\n",
              "      <td>Voice</td>\n",
              "      <td>37</td>\n",
              "      <td>04:48.0</td>\n",
              "      <td>1</td>\n",
              "      <td>3f9c8a33ec7be1f</td>\n",
              "      <td>7d05a38f89c49d8</td>\n",
              "      <td>19e2e</td>\n",
              "      <td>19e2e</td>\n",
              "      <td>/xvRrCVKoQ</td>\n",
              "      <td>/xvRrCVKoQ</td>\n",
              "    </tr>\n",
              "    <tr>\n",
              "      <th>3</th>\n",
              "      <td>sms</td>\n",
              "      <td>25</td>\n",
              "      <td>04:58.0</td>\n",
              "      <td>1</td>\n",
              "      <td>7bcccc03adf3864</td>\n",
              "      <td>56a5d5430d2fa86</td>\n",
              "      <td>19e2e</td>\n",
              "      <td>19e2e</td>\n",
              "      <td>#NAME?</td>\n",
              "      <td>#NAME?</td>\n",
              "    </tr>\n",
              "    <tr>\n",
              "      <th>4</th>\n",
              "      <td>sms</td>\n",
              "      <td>0</td>\n",
              "      <td>05:41.0</td>\n",
              "      <td>4</td>\n",
              "      <td>d73f11fdc9fcb30</td>\n",
              "      <td>ec90fdb12b50cbc</td>\n",
              "      <td>19e2e</td>\n",
              "      <td>19e2e</td>\n",
              "      <td>/MMplBlWjh</td>\n",
              "      <td>/MMplBlWjh</td>\n",
              "    </tr>\n",
              "  </tbody>\n",
              "</table>\n",
              "</div>"
            ],
            "text/plain": [
              "  Product  Value Date_Time  ... Country_B     Cell_ID     Site_ID\n",
              "0   Voice      0   03:44.0  ...     19e2e  +854AcBQT2  +854AcBQT2\n",
              "1     sms      0   04:06.0  ...     19e2e      #NAME?      #NAME?\n",
              "2   Voice     37   04:48.0  ...     19e2e  /xvRrCVKoQ  /xvRrCVKoQ\n",
              "3     sms     25   04:58.0  ...     19e2e      #NAME?      #NAME?\n",
              "4     sms      0   05:41.0  ...     19e2e  /MMplBlWjh  /MMplBlWjh\n",
              "\n",
              "[5 rows x 10 columns]"
            ]
          },
          "metadata": {
            "tags": []
          },
          "execution_count": 79
        }
      ]
    },
    {
      "cell_type": "code",
      "metadata": {
        "id": "RZiRtYw-yA6q",
        "colab_type": "code",
        "colab": {
          "base_uri": "https://localhost:8080/",
          "height": 221
        },
        "outputId": "74d83224-b683-4499-95a8-cb3ea6838f7e"
      },
      "source": [
        "#Import CDR 20120509\n",
        "#Skipped row 0 which has headers. Renamed columns for ease of understanding as some column names are in French\n",
        "df3 = pd.read_csv(\"Telcom_dataset3.csv\" , header = 1,  names = ['Product','Value','Date_Time','Cell_On_Site','DW_A_Number','DW_B_Number','Country_A','Country_B','Cell_ID','Site_ID'])\n",
        "\n",
        "df3.head()"
      ],
      "execution_count": 80,
      "outputs": [
        {
          "output_type": "execute_result",
          "data": {
            "text/html": [
              "<div>\n",
              "<style scoped>\n",
              "    .dataframe tbody tr th:only-of-type {\n",
              "        vertical-align: middle;\n",
              "    }\n",
              "\n",
              "    .dataframe tbody tr th {\n",
              "        vertical-align: top;\n",
              "    }\n",
              "\n",
              "    .dataframe thead th {\n",
              "        text-align: right;\n",
              "    }\n",
              "</style>\n",
              "<table border=\"1\" class=\"dataframe\">\n",
              "  <thead>\n",
              "    <tr style=\"text-align: right;\">\n",
              "      <th></th>\n",
              "      <th>Product</th>\n",
              "      <th>Value</th>\n",
              "      <th>Date_Time</th>\n",
              "      <th>Cell_On_Site</th>\n",
              "      <th>DW_A_Number</th>\n",
              "      <th>DW_B_Number</th>\n",
              "      <th>Country_A</th>\n",
              "      <th>Country_B</th>\n",
              "      <th>Cell_ID</th>\n",
              "      <th>Site_ID</th>\n",
              "    </tr>\n",
              "  </thead>\n",
              "  <tbody>\n",
              "    <tr>\n",
              "      <th>0</th>\n",
              "      <td>sms</td>\n",
              "      <td>0</td>\n",
              "      <td>01:31.0</td>\n",
              "      <td>1</td>\n",
              "      <td>a0a597384c612d7</td>\n",
              "      <td>cf3b218f1dde792</td>\n",
              "      <td>19e2e</td>\n",
              "      <td>19e2e</td>\n",
              "      <td>#NAME?</td>\n",
              "      <td>#NAME?</td>\n",
              "    </tr>\n",
              "    <tr>\n",
              "      <th>1</th>\n",
              "      <td>Voice</td>\n",
              "      <td>10</td>\n",
              "      <td>02:59.0</td>\n",
              "      <td>1</td>\n",
              "      <td>5441a9a58c97132</td>\n",
              "      <td>52f8b299515b9b7</td>\n",
              "      <td>19e2e</td>\n",
              "      <td>19e2e</td>\n",
              "      <td>+ZaaZozy/+</td>\n",
              "      <td>+ZaaZozy/+</td>\n",
              "    </tr>\n",
              "    <tr>\n",
              "      <th>2</th>\n",
              "      <td>sms</td>\n",
              "      <td>0</td>\n",
              "      <td>03:04.0</td>\n",
              "      <td>0</td>\n",
              "      <td>8ab8b9ed6989f61</td>\n",
              "      <td>e09e736e46c5c3d</td>\n",
              "      <td>19e2e</td>\n",
              "      <td>19e2e</td>\n",
              "      <td>#NAME?</td>\n",
              "      <td>#NAME?</td>\n",
              "    </tr>\n",
              "    <tr>\n",
              "      <th>3</th>\n",
              "      <td>Voice</td>\n",
              "      <td>22</td>\n",
              "      <td>03:16.0</td>\n",
              "      <td>4</td>\n",
              "      <td>52662a62b199334</td>\n",
              "      <td>2186273faab4602</td>\n",
              "      <td>19e2e</td>\n",
              "      <td>19e2e</td>\n",
              "      <td>/eeMklgyJA</td>\n",
              "      <td>/eeMklgyJA</td>\n",
              "    </tr>\n",
              "    <tr>\n",
              "      <th>4</th>\n",
              "      <td>Voice</td>\n",
              "      <td>10</td>\n",
              "      <td>03:59.0</td>\n",
              "      <td>0</td>\n",
              "      <td>c572f692ed9d25f</td>\n",
              "      <td>5e6221fa6b35f62</td>\n",
              "      <td>19e2e</td>\n",
              "      <td>19e2e</td>\n",
              "      <td>#NAME?</td>\n",
              "      <td>#NAME?</td>\n",
              "    </tr>\n",
              "  </tbody>\n",
              "</table>\n",
              "</div>"
            ],
            "text/plain": [
              "  Product  Value Date_Time  ... Country_B     Cell_ID     Site_ID\n",
              "0     sms      0   01:31.0  ...     19e2e      #NAME?      #NAME?\n",
              "1   Voice     10   02:59.0  ...     19e2e  +ZaaZozy/+  +ZaaZozy/+\n",
              "2     sms      0   03:04.0  ...     19e2e      #NAME?      #NAME?\n",
              "3   Voice     22   03:16.0  ...     19e2e  /eeMklgyJA  /eeMklgyJA\n",
              "4   Voice     10   03:59.0  ...     19e2e      #NAME?      #NAME?\n",
              "\n",
              "[5 rows x 10 columns]"
            ]
          },
          "metadata": {
            "tags": []
          },
          "execution_count": 80
        }
      ]
    },
    {
      "cell_type": "markdown",
      "metadata": {
        "id": "IZoKYxGBD9r0",
        "colab_type": "text"
      },
      "source": [
        "# **understanding Dataset  information**"
      ]
    },
    {
      "cell_type": "code",
      "metadata": {
        "id": "GwIGFHFY5pQA",
        "colab_type": "code",
        "colab": {
          "base_uri": "https://localhost:8080/",
          "height": 515
        },
        "outputId": "e4be7e39-51d1-46cc-da43-9da94bd2dc6f"
      },
      "source": [
        "#find the datatype in each column\n",
        "print(df.info())\n",
        "print(df.describe())"
      ],
      "execution_count": 47,
      "outputs": [
        {
          "output_type": "stream",
          "text": [
            "<class 'pandas.core.frame.DataFrame'>\n",
            "Int64Index: 3973 entries, 1 to 3973\n",
            "Data columns (total 11 columns):\n",
            " #   Column             Non-Null Count  Dtype  \n",
            "---  ------             --------------  -----  \n",
            " 0   City               3973 non-null   object \n",
            " 1   Status             3906 non-null   object \n",
            " 2   Locality           3973 non-null   object \n",
            " 3   Geographical_Zone  3973 non-null   object \n",
            " 4   Zone_Name          3967 non-null   object \n",
            " 5   Longitude          3973 non-null   float64\n",
            " 6   Latitude           3973 non-null   float64\n",
            " 7   Region             3973 non-null   object \n",
            " 8   Area               3951 non-null   object \n",
            " 9   Cell_ID            3973 non-null   object \n",
            " 10  Site_ID            3973 non-null   object \n",
            "dtypes: float64(2), object(9)\n",
            "memory usage: 372.5+ KB\n",
            "None\n",
            "         Longitude     Latitude\n",
            "count  3973.000000  3973.000000\n",
            "mean     -4.877880     6.244970\n",
            "std       1.300861     1.304289\n",
            "min      -8.503889     0.000000\n",
            "25%      -5.846139     5.338639\n",
            "50%      -4.084500     5.475000\n",
            "75%      -3.993444     6.872306\n",
            "max       0.000000    10.481861\n"
          ],
          "name": "stdout"
        }
      ]
    },
    {
      "cell_type": "code",
      "metadata": {
        "id": "af5HNFfc5_JF",
        "colab_type": "code",
        "colab": {
          "base_uri": "https://localhost:8080/",
          "height": 159
        },
        "outputId": "aa20c36b-072f-4363-9054-9802fabbaad1"
      },
      "source": [
        "#Unique values in Cells_geo\n",
        "\n",
        "\n",
        "#df.name.unique()\n",
        "print (\"Unique   Locality is \", df.Locality.nunique(), \" out of \" , df.Locality.count())\n",
        "print (\"Unique Area is \", df.Area.nunique(), \" out of \" , df.Area.count())\n",
        "print (\"Unique Geographical_Zone is \", df.Geographical_Zone.nunique(), \" out of \" , df.Geographical_Zone.count())\n",
        "print (\"Unique Region is  \", df.Region.nunique(), \" out of \" , df.Region.count())\n",
        "print (\"Unique Zone_Name is  \", df.Zone_Name.nunique(), \" out of \" , df.Zone_Name.count())\n",
        "print (\"Unique cities is  \", df.City.nunique(), \" out of \" , df.City.count())\n",
        "print (\"Unique Site_Id is \", df.Site_ID.nunique(), \" out of \" , df.Site_ID.count())\n",
        "print (\"Unique Cell_ID is \", df.Cell_ID.nunique(), \" out of \" , df.Cell_ID.count())"
      ],
      "execution_count": 59,
      "outputs": [
        {
          "output_type": "stream",
          "text": [
            "Unique   Locality is  2  out of  3973\n",
            "Unique Area is  6  out of  3951\n",
            "Unique Geographical_Zone is  15  out of  3973\n",
            "Unique Region is   19  out of  3973\n",
            "Unique Zone_Name is   33  out of  3967\n",
            "Unique cities is   504  out of  3973\n",
            "Unique Site_Id is  1029  out of  3973\n",
            "Unique Cell_ID is  3915  out of  3973\n"
          ],
          "name": "stdout"
        }
      ]
    },
    {
      "cell_type": "code",
      "metadata": {
        "id": "vVDRfpA06Mku",
        "colab_type": "code",
        "colab": {
          "base_uri": "https://localhost:8080/",
          "height": 230
        },
        "outputId": "827416d9-1d76-49ae-dc59-89aa6e681164"
      },
      "source": [
        "#Null values\n",
        "print(df.isnull().sum())"
      ],
      "execution_count": 12,
      "outputs": [
        {
          "output_type": "stream",
          "text": [
            "City                  0\n",
            "Status               67\n",
            "Locality              0\n",
            "Geographical_Zone     0\n",
            "Zone_Name             6\n",
            "Longitude             0\n",
            "Latitude              0\n",
            "Region                0\n",
            "Area                 22\n",
            "Cell_ID               0\n",
            "Site_ID               0\n",
            "dtype: int64\n"
          ],
          "name": "stdout"
        }
      ]
    },
    {
      "cell_type": "code",
      "metadata": {
        "id": "8KLqNJvD7Emb",
        "colab_type": "code",
        "colab": {
          "base_uri": "https://localhost:8080/",
          "height": 35
        },
        "outputId": "e0b6c021-9738-4a34-d084-1fd1167b5c43"
      },
      "source": [
        "#how many rows and column does it have\n",
        "df.shape"
      ],
      "execution_count": 76,
      "outputs": [
        {
          "output_type": "execute_result",
          "data": {
            "text/plain": [
              "(3973, 11)"
            ]
          },
          "metadata": {
            "tags": []
          },
          "execution_count": 76
        }
      ]
    },
    {
      "cell_type": "markdown",
      "metadata": {
        "id": "zV2eLbwAEMbn",
        "colab_type": "text"
      },
      "source": [
        "# *** merging and cleaning dataset ***"
      ]
    },
    {
      "cell_type": "code",
      "metadata": {
        "id": "3hv03JbHNaz3",
        "colab_type": "code",
        "colab": {
          "base_uri": "https://localhost:8080/",
          "height": 433
        },
        "outputId": "dded6f28-0655-4d21-c206-df3563d9d248"
      },
      "source": [
        "#Combine the CDR datasets\n",
        "df_final = pd.concat([df1,df2,df3], axis=0)\n",
        "df_final\n",
        "#df_cdr.info()\n"
      ],
      "execution_count": 81,
      "outputs": [
        {
          "output_type": "execute_result",
          "data": {
            "text/html": [
              "<div>\n",
              "<style scoped>\n",
              "    .dataframe tbody tr th:only-of-type {\n",
              "        vertical-align: middle;\n",
              "    }\n",
              "\n",
              "    .dataframe tbody tr th {\n",
              "        vertical-align: top;\n",
              "    }\n",
              "\n",
              "    .dataframe thead th {\n",
              "        text-align: right;\n",
              "    }\n",
              "</style>\n",
              "<table border=\"1\" class=\"dataframe\">\n",
              "  <thead>\n",
              "    <tr style=\"text-align: right;\">\n",
              "      <th></th>\n",
              "      <th>Product</th>\n",
              "      <th>Value</th>\n",
              "      <th>Date_Time</th>\n",
              "      <th>Cell_On_Site</th>\n",
              "      <th>DW_A_Number</th>\n",
              "      <th>DW_B_Number</th>\n",
              "      <th>Country_A</th>\n",
              "      <th>Country_B</th>\n",
              "      <th>Cell_ID</th>\n",
              "      <th>Site_ID</th>\n",
              "    </tr>\n",
              "  </thead>\n",
              "  <tbody>\n",
              "    <tr>\n",
              "      <th>0</th>\n",
              "      <td>sms</td>\n",
              "      <td>0</td>\n",
              "      <td>05:25.0</td>\n",
              "      <td>0</td>\n",
              "      <td>7a54a6eaee19e65</td>\n",
              "      <td>93343ba6e41af95</td>\n",
              "      <td>19e2e</td>\n",
              "      <td>19e2e</td>\n",
              "      <td>/+cKZKIp41</td>\n",
              "      <td>/+cKZKIp41</td>\n",
              "    </tr>\n",
              "    <tr>\n",
              "      <th>1</th>\n",
              "      <td>sms</td>\n",
              "      <td>25</td>\n",
              "      <td>05:41.0</td>\n",
              "      <td>0</td>\n",
              "      <td>6008887b0207d82</td>\n",
              "      <td>7aacc9709ce0a20</td>\n",
              "      <td>19e2e</td>\n",
              "      <td>19e2e</td>\n",
              "      <td>/u0FSD+ahi</td>\n",
              "      <td>/u0FSD+ahi</td>\n",
              "    </tr>\n",
              "    <tr>\n",
              "      <th>2</th>\n",
              "      <td>Voice</td>\n",
              "      <td>56</td>\n",
              "      <td>05:42.0</td>\n",
              "      <td>1</td>\n",
              "      <td>7370032e20f4e96</td>\n",
              "      <td>6af4a60e74c91d3</td>\n",
              "      <td>19e2e</td>\n",
              "      <td>19e2e</td>\n",
              "      <td>#NAME?</td>\n",
              "      <td>#NAME?</td>\n",
              "    </tr>\n",
              "    <tr>\n",
              "      <th>3</th>\n",
              "      <td>Voice</td>\n",
              "      <td>14</td>\n",
              "      <td>06:29.0</td>\n",
              "      <td>1</td>\n",
              "      <td>966ba4656e38e62</td>\n",
              "      <td>02aa736ee555d5c</td>\n",
              "      <td>19e2e</td>\n",
              "      <td>19e2e</td>\n",
              "      <td>051KhYDCpv</td>\n",
              "      <td>051KhYDCpv</td>\n",
              "    </tr>\n",
              "    <tr>\n",
              "      <th>4</th>\n",
              "      <td>data</td>\n",
              "      <td>0</td>\n",
              "      <td>07:26.0</td>\n",
              "      <td>_</td>\n",
              "      <td>f71825ca6e623f9</td>\n",
              "      <td>5a4dc9e82deb309</td>\n",
              "      <td>19e2e</td>\n",
              "      <td>OTHER</td>\n",
              "      <td>/lrUXVGVcN</td>\n",
              "      <td>/lrUXVGVcN</td>\n",
              "    </tr>\n",
              "    <tr>\n",
              "      <th>...</th>\n",
              "      <td>...</td>\n",
              "      <td>...</td>\n",
              "      <td>...</td>\n",
              "      <td>...</td>\n",
              "      <td>...</td>\n",
              "      <td>...</td>\n",
              "      <td>...</td>\n",
              "      <td>...</td>\n",
              "      <td>...</td>\n",
              "      <td>...</td>\n",
              "    </tr>\n",
              "    <tr>\n",
              "      <th>4995</th>\n",
              "      <td>Voice</td>\n",
              "      <td>0</td>\n",
              "      <td>01:43.0</td>\n",
              "      <td>3</td>\n",
              "      <td>467333ade2b4b9c</td>\n",
              "      <td>0ab2acd804d01fe</td>\n",
              "      <td>19e2e</td>\n",
              "      <td>19e2e</td>\n",
              "      <td>2aa04dcab7</td>\n",
              "      <td>f7d63a29e5</td>\n",
              "    </tr>\n",
              "    <tr>\n",
              "      <th>4996</th>\n",
              "      <td>Voice</td>\n",
              "      <td>62</td>\n",
              "      <td>01:43.0</td>\n",
              "      <td>1</td>\n",
              "      <td>e077a6b74c5053c</td>\n",
              "      <td>4c8098eb6ea1a41</td>\n",
              "      <td>19e2e</td>\n",
              "      <td>19e2e</td>\n",
              "      <td>7f1f2f889f</td>\n",
              "      <td>b4ddb9e93c</td>\n",
              "    </tr>\n",
              "    <tr>\n",
              "      <th>4997</th>\n",
              "      <td>Voice</td>\n",
              "      <td>32</td>\n",
              "      <td>01:43.0</td>\n",
              "      <td>1</td>\n",
              "      <td>77f53c39d27c050</td>\n",
              "      <td>9d064f013e2cab2</td>\n",
              "      <td>19e2e</td>\n",
              "      <td>19e2e</td>\n",
              "      <td>a4731e780e</td>\n",
              "      <td>d68260ef50</td>\n",
              "    </tr>\n",
              "    <tr>\n",
              "      <th>4998</th>\n",
              "      <td>Voice</td>\n",
              "      <td>30</td>\n",
              "      <td>01:43.0</td>\n",
              "      <td>2</td>\n",
              "      <td>672ce74c418aa7a</td>\n",
              "      <td>f9ff5af59cf0d68</td>\n",
              "      <td>19e2e</td>\n",
              "      <td>19e2e</td>\n",
              "      <td>98ed726da2</td>\n",
              "      <td>b4130b54ab</td>\n",
              "    </tr>\n",
              "    <tr>\n",
              "      <th>4999</th>\n",
              "      <td>Voice</td>\n",
              "      <td>60</td>\n",
              "      <td>01:43.0</td>\n",
              "      <td>2</td>\n",
              "      <td>6edeb4c55714650</td>\n",
              "      <td>7e60838216482a7</td>\n",
              "      <td>19e2e</td>\n",
              "      <td>19e2e</td>\n",
              "      <td>1c11a2fcbb</td>\n",
              "      <td>6d70dae094</td>\n",
              "    </tr>\n",
              "  </tbody>\n",
              "</table>\n",
              "<p>15000 rows × 10 columns</p>\n",
              "</div>"
            ],
            "text/plain": [
              "     Product  Value Date_Time  ... Country_B     Cell_ID     Site_ID\n",
              "0        sms      0   05:25.0  ...     19e2e  /+cKZKIp41  /+cKZKIp41\n",
              "1        sms     25   05:41.0  ...     19e2e  /u0FSD+ahi  /u0FSD+ahi\n",
              "2      Voice     56   05:42.0  ...     19e2e      #NAME?      #NAME?\n",
              "3      Voice     14   06:29.0  ...     19e2e  051KhYDCpv  051KhYDCpv\n",
              "4       data      0   07:26.0  ...     OTHER  /lrUXVGVcN  /lrUXVGVcN\n",
              "...      ...    ...       ...  ...       ...         ...         ...\n",
              "4995   Voice      0   01:43.0  ...     19e2e  2aa04dcab7  f7d63a29e5\n",
              "4996   Voice     62   01:43.0  ...     19e2e  7f1f2f889f  b4ddb9e93c\n",
              "4997   Voice     32   01:43.0  ...     19e2e  a4731e780e  d68260ef50\n",
              "4998   Voice     30   01:43.0  ...     19e2e  98ed726da2  b4130b54ab\n",
              "4999   Voice     60   01:43.0  ...     19e2e  1c11a2fcbb  6d70dae094\n",
              "\n",
              "[15000 rows x 10 columns]"
            ]
          },
          "metadata": {
            "tags": []
          },
          "execution_count": 81
        }
      ]
    },
    {
      "cell_type": "code",
      "metadata": {
        "id": "hG2KGidvEXxX",
        "colab_type": "code",
        "colab": {
          "base_uri": "https://localhost:8080/",
          "height": 177
        },
        "outputId": "0d761651-f130-4fd4-84d5-f0405b6dd51d"
      },
      "source": [
        "\n",
        "#Let's check for null values in the merge  dataset\n",
        "\n",
        "df_final.isnull().sum()"
      ],
      "execution_count": 97,
      "outputs": [
        {
          "output_type": "execute_result",
          "data": {
            "text/plain": [
              "Product            0\n",
              "Value              0\n",
              "Date_Time          0\n",
              "Cell_On_Site       0\n",
              "DW_A_Number        0\n",
              "DW_B_Number        0\n",
              "Cell_ID            0\n",
              "Site_ID         1997\n",
              "dtype: int64"
            ]
          },
          "metadata": {
            "tags": []
          },
          "execution_count": 97
        }
      ]
    },
    {
      "cell_type": "code",
      "metadata": {
        "id": "hrBFM1NUPBFB",
        "colab_type": "code",
        "colab": {
          "base_uri": "https://localhost:8080/",
          "height": 390
        },
        "outputId": "1e167a8f-4fb6-43a7-e952-aa513aea1024"
      },
      "source": [
        "#Merge CDR and Cell Data on how and the state key \n",
        "df_final_cells = pd.merge(df_cdr,df, how='inner', on=['Site_ID'])\n",
        "df_final_cells.head()\n",
        "\n",
        "#df_cdr_cells.info()\n"
      ],
      "execution_count": 105,
      "outputs": [
        {
          "output_type": "execute_result",
          "data": {
            "text/html": [
              "<div>\n",
              "<style scoped>\n",
              "    .dataframe tbody tr th:only-of-type {\n",
              "        vertical-align: middle;\n",
              "    }\n",
              "\n",
              "    .dataframe tbody tr th {\n",
              "        vertical-align: top;\n",
              "    }\n",
              "\n",
              "    .dataframe thead th {\n",
              "        text-align: right;\n",
              "    }\n",
              "</style>\n",
              "<table border=\"1\" class=\"dataframe\">\n",
              "  <thead>\n",
              "    <tr style=\"text-align: right;\">\n",
              "      <th></th>\n",
              "      <th>Product</th>\n",
              "      <th>Value</th>\n",
              "      <th>Date_Time</th>\n",
              "      <th>Cell_On_Site</th>\n",
              "      <th>Party_A_Number</th>\n",
              "      <th>Party_B_Number</th>\n",
              "      <th>Country_A</th>\n",
              "      <th>Country_B</th>\n",
              "      <th>Cell_ID_x</th>\n",
              "      <th>Site_ID</th>\n",
              "      <th>City</th>\n",
              "      <th>Status</th>\n",
              "      <th>Locality</th>\n",
              "      <th>Geographical_Zone</th>\n",
              "      <th>Zone_Name</th>\n",
              "      <th>Longitude</th>\n",
              "      <th>Latitude</th>\n",
              "      <th>Region</th>\n",
              "      <th>Area</th>\n",
              "      <th>Cell_ID_y</th>\n",
              "    </tr>\n",
              "  </thead>\n",
              "  <tbody>\n",
              "    <tr>\n",
              "      <th>0</th>\n",
              "      <td>sms</td>\n",
              "      <td>0</td>\n",
              "      <td>00:00.0</td>\n",
              "      <td>1</td>\n",
              "      <td>8118c3aa53d6c7b</td>\n",
              "      <td>1d103ea638ad1f0</td>\n",
              "      <td>19e2e</td>\n",
              "      <td>19e2e</td>\n",
              "      <td>5d9dc897f7</td>\n",
              "      <td>1b5540c02d</td>\n",
              "      <td>BOUAKE</td>\n",
              "      <td>In Service</td>\n",
              "      <td>INTERIEUR</td>\n",
              "      <td>Grand-NORD</td>\n",
              "      <td>ZONE A - Grand-NORD</td>\n",
              "      <td>-5.027139</td>\n",
              "      <td>7.718417</td>\n",
              "      <td>VALLEE DU BANDAMA</td>\n",
              "      <td>CENTRE NORTH</td>\n",
              "      <td>24ccdda3d5</td>\n",
              "    </tr>\n",
              "    <tr>\n",
              "      <th>1</th>\n",
              "      <td>sms</td>\n",
              "      <td>0</td>\n",
              "      <td>00:00.0</td>\n",
              "      <td>1</td>\n",
              "      <td>8118c3aa53d6c7b</td>\n",
              "      <td>1d103ea638ad1f0</td>\n",
              "      <td>19e2e</td>\n",
              "      <td>19e2e</td>\n",
              "      <td>5d9dc897f7</td>\n",
              "      <td>1b5540c02d</td>\n",
              "      <td>BOUAKE</td>\n",
              "      <td>In Service</td>\n",
              "      <td>INTERIEUR</td>\n",
              "      <td>Grand-NORD</td>\n",
              "      <td>ZONE A - Grand-NORD</td>\n",
              "      <td>-5.027139</td>\n",
              "      <td>7.718417</td>\n",
              "      <td>VALLEE DU BANDAMA</td>\n",
              "      <td>CENTRE NORTH</td>\n",
              "      <td>ebfc58af70</td>\n",
              "    </tr>\n",
              "    <tr>\n",
              "      <th>2</th>\n",
              "      <td>sms</td>\n",
              "      <td>0</td>\n",
              "      <td>00:00.0</td>\n",
              "      <td>1</td>\n",
              "      <td>8118c3aa53d6c7b</td>\n",
              "      <td>1d103ea638ad1f0</td>\n",
              "      <td>19e2e</td>\n",
              "      <td>19e2e</td>\n",
              "      <td>5d9dc897f7</td>\n",
              "      <td>1b5540c02d</td>\n",
              "      <td>BOUAKE</td>\n",
              "      <td>In Service</td>\n",
              "      <td>INTERIEUR</td>\n",
              "      <td>Grand-NORD</td>\n",
              "      <td>ZONE A - Grand-NORD</td>\n",
              "      <td>-5.027139</td>\n",
              "      <td>7.718417</td>\n",
              "      <td>VALLEE DU BANDAMA</td>\n",
              "      <td>CENTRE NORTH</td>\n",
              "      <td>ba8ce6e4ef</td>\n",
              "    </tr>\n",
              "    <tr>\n",
              "      <th>3</th>\n",
              "      <td>sms</td>\n",
              "      <td>0</td>\n",
              "      <td>00:00.0</td>\n",
              "      <td>1</td>\n",
              "      <td>8118c3aa53d6c7b</td>\n",
              "      <td>1d103ea638ad1f0</td>\n",
              "      <td>19e2e</td>\n",
              "      <td>19e2e</td>\n",
              "      <td>5d9dc897f7</td>\n",
              "      <td>1b5540c02d</td>\n",
              "      <td>BOUAKE</td>\n",
              "      <td>In Service</td>\n",
              "      <td>INTERIEUR</td>\n",
              "      <td>Grand-NORD</td>\n",
              "      <td>ZONE A - Grand-NORD</td>\n",
              "      <td>-5.027139</td>\n",
              "      <td>7.718417</td>\n",
              "      <td>VALLEE DU BANDAMA</td>\n",
              "      <td>CENTRE NORTH</td>\n",
              "      <td>c2545171dc</td>\n",
              "    </tr>\n",
              "    <tr>\n",
              "      <th>4</th>\n",
              "      <td>sms</td>\n",
              "      <td>0</td>\n",
              "      <td>00:00.0</td>\n",
              "      <td>1</td>\n",
              "      <td>8118c3aa53d6c7b</td>\n",
              "      <td>1d103ea638ad1f0</td>\n",
              "      <td>19e2e</td>\n",
              "      <td>19e2e</td>\n",
              "      <td>5d9dc897f7</td>\n",
              "      <td>1b5540c02d</td>\n",
              "      <td>BOUAKE</td>\n",
              "      <td>In Service</td>\n",
              "      <td>INTERIEUR</td>\n",
              "      <td>Grand-NORD</td>\n",
              "      <td>ZONE A - Grand-NORD</td>\n",
              "      <td>-5.027139</td>\n",
              "      <td>7.718417</td>\n",
              "      <td>VALLEE DU BANDAMA</td>\n",
              "      <td>CENTRE NORTH</td>\n",
              "      <td>f15bd5483f</td>\n",
              "    </tr>\n",
              "  </tbody>\n",
              "</table>\n",
              "</div>"
            ],
            "text/plain": [
              "  Product  Value Date_Time  ...             Region          Area   Cell_ID_y\n",
              "0     sms      0   00:00.0  ...  VALLEE DU BANDAMA  CENTRE NORTH  24ccdda3d5\n",
              "1     sms      0   00:00.0  ...  VALLEE DU BANDAMA  CENTRE NORTH  ebfc58af70\n",
              "2     sms      0   00:00.0  ...  VALLEE DU BANDAMA  CENTRE NORTH  ba8ce6e4ef\n",
              "3     sms      0   00:00.0  ...  VALLEE DU BANDAMA  CENTRE NORTH  c2545171dc\n",
              "4     sms      0   00:00.0  ...  VALLEE DU BANDAMA  CENTRE NORTH  f15bd5483f\n",
              "\n",
              "[5 rows x 20 columns]"
            ]
          },
          "metadata": {
            "tags": []
          },
          "execution_count": 105
        }
      ]
    },
    {
      "cell_type": "code",
      "metadata": {
        "id": "eKxbVYKDLGS7",
        "colab_type": "code",
        "colab": {
          "base_uri": "https://localhost:8080/",
          "height": 738
        },
        "outputId": "c540b43a-7f84-4b49-fe64-9ce71ff1d869"
      },
      "source": [
        "#clean our data by droping some columns that we don't need for our anaylisis\n",
        "#Drop Not required Columns\n",
        "df_final_cells.drop(['Country_A', 'Country_B'], axis=1, inplace=True)\n",
        "df_final_cells # print our data frame \n",
        "\n",
        "\n",
        "\n"
      ],
      "execution_count": 112,
      "outputs": [
        {
          "output_type": "execute_result",
          "data": {
            "text/html": [
              "<div>\n",
              "<style scoped>\n",
              "    .dataframe tbody tr th:only-of-type {\n",
              "        vertical-align: middle;\n",
              "    }\n",
              "\n",
              "    .dataframe tbody tr th {\n",
              "        vertical-align: top;\n",
              "    }\n",
              "\n",
              "    .dataframe thead th {\n",
              "        text-align: right;\n",
              "    }\n",
              "</style>\n",
              "<table border=\"1\" class=\"dataframe\">\n",
              "  <thead>\n",
              "    <tr style=\"text-align: right;\">\n",
              "      <th></th>\n",
              "      <th>Product</th>\n",
              "      <th>Value</th>\n",
              "      <th>Date_Time</th>\n",
              "      <th>Cell_On_Site</th>\n",
              "      <th>Party_A_Number</th>\n",
              "      <th>Party_B_Number</th>\n",
              "      <th>Cell_ID_x</th>\n",
              "      <th>Site_ID</th>\n",
              "      <th>City</th>\n",
              "      <th>Status</th>\n",
              "      <th>Locality</th>\n",
              "      <th>Geographical_Zone</th>\n",
              "      <th>Zone_Name</th>\n",
              "      <th>Longitude</th>\n",
              "      <th>Latitude</th>\n",
              "      <th>Region</th>\n",
              "      <th>Area</th>\n",
              "      <th>Cell_ID_y</th>\n",
              "    </tr>\n",
              "  </thead>\n",
              "  <tbody>\n",
              "    <tr>\n",
              "      <th>0</th>\n",
              "      <td>sms</td>\n",
              "      <td>0</td>\n",
              "      <td>00:00.0</td>\n",
              "      <td>1</td>\n",
              "      <td>8118c3aa53d6c7b</td>\n",
              "      <td>1d103ea638ad1f0</td>\n",
              "      <td>5d9dc897f7</td>\n",
              "      <td>1b5540c02d</td>\n",
              "      <td>BOUAKE</td>\n",
              "      <td>In Service</td>\n",
              "      <td>INTERIEUR</td>\n",
              "      <td>Grand-NORD</td>\n",
              "      <td>ZONE A - Grand-NORD</td>\n",
              "      <td>-5.027139</td>\n",
              "      <td>7.718417</td>\n",
              "      <td>VALLEE DU BANDAMA</td>\n",
              "      <td>CENTRE NORTH</td>\n",
              "      <td>24ccdda3d5</td>\n",
              "    </tr>\n",
              "    <tr>\n",
              "      <th>1</th>\n",
              "      <td>sms</td>\n",
              "      <td>0</td>\n",
              "      <td>00:00.0</td>\n",
              "      <td>1</td>\n",
              "      <td>8118c3aa53d6c7b</td>\n",
              "      <td>1d103ea638ad1f0</td>\n",
              "      <td>5d9dc897f7</td>\n",
              "      <td>1b5540c02d</td>\n",
              "      <td>BOUAKE</td>\n",
              "      <td>In Service</td>\n",
              "      <td>INTERIEUR</td>\n",
              "      <td>Grand-NORD</td>\n",
              "      <td>ZONE A - Grand-NORD</td>\n",
              "      <td>-5.027139</td>\n",
              "      <td>7.718417</td>\n",
              "      <td>VALLEE DU BANDAMA</td>\n",
              "      <td>CENTRE NORTH</td>\n",
              "      <td>ebfc58af70</td>\n",
              "    </tr>\n",
              "    <tr>\n",
              "      <th>2</th>\n",
              "      <td>sms</td>\n",
              "      <td>0</td>\n",
              "      <td>00:00.0</td>\n",
              "      <td>1</td>\n",
              "      <td>8118c3aa53d6c7b</td>\n",
              "      <td>1d103ea638ad1f0</td>\n",
              "      <td>5d9dc897f7</td>\n",
              "      <td>1b5540c02d</td>\n",
              "      <td>BOUAKE</td>\n",
              "      <td>In Service</td>\n",
              "      <td>INTERIEUR</td>\n",
              "      <td>Grand-NORD</td>\n",
              "      <td>ZONE A - Grand-NORD</td>\n",
              "      <td>-5.027139</td>\n",
              "      <td>7.718417</td>\n",
              "      <td>VALLEE DU BANDAMA</td>\n",
              "      <td>CENTRE NORTH</td>\n",
              "      <td>ba8ce6e4ef</td>\n",
              "    </tr>\n",
              "    <tr>\n",
              "      <th>3</th>\n",
              "      <td>sms</td>\n",
              "      <td>0</td>\n",
              "      <td>00:00.0</td>\n",
              "      <td>1</td>\n",
              "      <td>8118c3aa53d6c7b</td>\n",
              "      <td>1d103ea638ad1f0</td>\n",
              "      <td>5d9dc897f7</td>\n",
              "      <td>1b5540c02d</td>\n",
              "      <td>BOUAKE</td>\n",
              "      <td>In Service</td>\n",
              "      <td>INTERIEUR</td>\n",
              "      <td>Grand-NORD</td>\n",
              "      <td>ZONE A - Grand-NORD</td>\n",
              "      <td>-5.027139</td>\n",
              "      <td>7.718417</td>\n",
              "      <td>VALLEE DU BANDAMA</td>\n",
              "      <td>CENTRE NORTH</td>\n",
              "      <td>c2545171dc</td>\n",
              "    </tr>\n",
              "    <tr>\n",
              "      <th>4</th>\n",
              "      <td>sms</td>\n",
              "      <td>0</td>\n",
              "      <td>00:00.0</td>\n",
              "      <td>1</td>\n",
              "      <td>8118c3aa53d6c7b</td>\n",
              "      <td>1d103ea638ad1f0</td>\n",
              "      <td>5d9dc897f7</td>\n",
              "      <td>1b5540c02d</td>\n",
              "      <td>BOUAKE</td>\n",
              "      <td>In Service</td>\n",
              "      <td>INTERIEUR</td>\n",
              "      <td>Grand-NORD</td>\n",
              "      <td>ZONE A - Grand-NORD</td>\n",
              "      <td>-5.027139</td>\n",
              "      <td>7.718417</td>\n",
              "      <td>VALLEE DU BANDAMA</td>\n",
              "      <td>CENTRE NORTH</td>\n",
              "      <td>f15bd5483f</td>\n",
              "    </tr>\n",
              "    <tr>\n",
              "      <th>...</th>\n",
              "      <td>...</td>\n",
              "      <td>...</td>\n",
              "      <td>...</td>\n",
              "      <td>...</td>\n",
              "      <td>...</td>\n",
              "      <td>...</td>\n",
              "      <td>...</td>\n",
              "      <td>...</td>\n",
              "      <td>...</td>\n",
              "      <td>...</td>\n",
              "      <td>...</td>\n",
              "      <td>...</td>\n",
              "      <td>...</td>\n",
              "      <td>...</td>\n",
              "      <td>...</td>\n",
              "      <td>...</td>\n",
              "      <td>...</td>\n",
              "      <td>...</td>\n",
              "    </tr>\n",
              "    <tr>\n",
              "      <th>51355</th>\n",
              "      <td>Voice</td>\n",
              "      <td>17</td>\n",
              "      <td>01:42.0</td>\n",
              "      <td>4</td>\n",
              "      <td>22e493a92442b73</td>\n",
              "      <td>c9e2c9c2fa3795a</td>\n",
              "      <td>2f50f4a1fb</td>\n",
              "      <td>cc45940406</td>\n",
              "      <td>ADJAME</td>\n",
              "      <td>In Service</td>\n",
              "      <td>ABIDJAN</td>\n",
              "      <td>Abidjan_CENTRE</td>\n",
              "      <td>ZONE B - Abidjan_CENTRE</td>\n",
              "      <td>-4.023247</td>\n",
              "      <td>5.349442</td>\n",
              "      <td>LAGUNE</td>\n",
              "      <td>ABIDJAN NORTH</td>\n",
              "      <td>c179f33d5e</td>\n",
              "    </tr>\n",
              "    <tr>\n",
              "      <th>51356</th>\n",
              "      <td>Voice</td>\n",
              "      <td>17</td>\n",
              "      <td>01:42.0</td>\n",
              "      <td>4</td>\n",
              "      <td>22e493a92442b73</td>\n",
              "      <td>c9e2c9c2fa3795a</td>\n",
              "      <td>2f50f4a1fb</td>\n",
              "      <td>cc45940406</td>\n",
              "      <td>ADJAME</td>\n",
              "      <td>In Service</td>\n",
              "      <td>ABIDJAN</td>\n",
              "      <td>Abidjan_CENTRE</td>\n",
              "      <td>ZONE B - Abidjan_CENTRE</td>\n",
              "      <td>-4.023247</td>\n",
              "      <td>5.349442</td>\n",
              "      <td>LAGUNE</td>\n",
              "      <td>ABIDJAN NORTH</td>\n",
              "      <td>0a3f751619</td>\n",
              "    </tr>\n",
              "    <tr>\n",
              "      <th>51357</th>\n",
              "      <td>sms</td>\n",
              "      <td>0</td>\n",
              "      <td>01:43.0</td>\n",
              "      <td>2</td>\n",
              "      <td>32e2e7c90a9b0e9</td>\n",
              "      <td>32e2e7c90a9b0e9</td>\n",
              "      <td>25c671778e</td>\n",
              "      <td>ab91f5b21d</td>\n",
              "      <td>DIABO</td>\n",
              "      <td>In Service</td>\n",
              "      <td>INTERIEUR</td>\n",
              "      <td>Grand-NORD</td>\n",
              "      <td>ZONE A - Grand-NORD</td>\n",
              "      <td>-5.171778</td>\n",
              "      <td>7.777056</td>\n",
              "      <td>VALLEE DU BANDAMA</td>\n",
              "      <td>CENTRE NORTH</td>\n",
              "      <td>0427a26d34</td>\n",
              "    </tr>\n",
              "    <tr>\n",
              "      <th>51358</th>\n",
              "      <td>sms</td>\n",
              "      <td>0</td>\n",
              "      <td>01:43.0</td>\n",
              "      <td>2</td>\n",
              "      <td>32e2e7c90a9b0e9</td>\n",
              "      <td>32e2e7c90a9b0e9</td>\n",
              "      <td>25c671778e</td>\n",
              "      <td>ab91f5b21d</td>\n",
              "      <td>DIABO</td>\n",
              "      <td>In Service</td>\n",
              "      <td>INTERIEUR</td>\n",
              "      <td>Grand-NORD</td>\n",
              "      <td>ZONE A - Grand-NORD</td>\n",
              "      <td>-5.171778</td>\n",
              "      <td>7.777056</td>\n",
              "      <td>VALLEE DU BANDAMA</td>\n",
              "      <td>CENTRE NORTH</td>\n",
              "      <td>7c72293cf2</td>\n",
              "    </tr>\n",
              "    <tr>\n",
              "      <th>51359</th>\n",
              "      <td>sms</td>\n",
              "      <td>0</td>\n",
              "      <td>01:43.0</td>\n",
              "      <td>2</td>\n",
              "      <td>32e2e7c90a9b0e9</td>\n",
              "      <td>32e2e7c90a9b0e9</td>\n",
              "      <td>25c671778e</td>\n",
              "      <td>ab91f5b21d</td>\n",
              "      <td>DIABO</td>\n",
              "      <td>In Service</td>\n",
              "      <td>INTERIEUR</td>\n",
              "      <td>Grand-NORD</td>\n",
              "      <td>ZONE A - Grand-NORD</td>\n",
              "      <td>-5.171778</td>\n",
              "      <td>7.777056</td>\n",
              "      <td>VALLEE DU BANDAMA</td>\n",
              "      <td>CENTRE NORTH</td>\n",
              "      <td>be18b5b981</td>\n",
              "    </tr>\n",
              "  </tbody>\n",
              "</table>\n",
              "<p>51360 rows × 18 columns</p>\n",
              "</div>"
            ],
            "text/plain": [
              "      Product  Value Date_Time  ...             Region           Area   Cell_ID_y\n",
              "0         sms      0   00:00.0  ...  VALLEE DU BANDAMA   CENTRE NORTH  24ccdda3d5\n",
              "1         sms      0   00:00.0  ...  VALLEE DU BANDAMA   CENTRE NORTH  ebfc58af70\n",
              "2         sms      0   00:00.0  ...  VALLEE DU BANDAMA   CENTRE NORTH  ba8ce6e4ef\n",
              "3         sms      0   00:00.0  ...  VALLEE DU BANDAMA   CENTRE NORTH  c2545171dc\n",
              "4         sms      0   00:00.0  ...  VALLEE DU BANDAMA   CENTRE NORTH  f15bd5483f\n",
              "...       ...    ...       ...  ...                ...            ...         ...\n",
              "51355   Voice     17   01:42.0  ...             LAGUNE  ABIDJAN NORTH  c179f33d5e\n",
              "51356   Voice     17   01:42.0  ...             LAGUNE  ABIDJAN NORTH  0a3f751619\n",
              "51357     sms      0   01:43.0  ...  VALLEE DU BANDAMA   CENTRE NORTH  0427a26d34\n",
              "51358     sms      0   01:43.0  ...  VALLEE DU BANDAMA   CENTRE NORTH  7c72293cf2\n",
              "51359     sms      0   01:43.0  ...  VALLEE DU BANDAMA   CENTRE NORTH  be18b5b981\n",
              "\n",
              "[51360 rows x 18 columns]"
            ]
          },
          "metadata": {
            "tags": []
          },
          "execution_count": 112
        }
      ]
    },
    {
      "cell_type": "code",
      "metadata": {
        "id": "IgOJafUUJ6Dg",
        "colab_type": "code",
        "colab": {}
      },
      "source": [
        "#Change data types of date columns which are storing date values to date for ease of calculation\n",
        " \n",
        "\n",
        "df_final_cells['Date_Time'] = pd.to_datetime(df_final_cells['Date_Time'])"
      ],
      "execution_count": 117,
      "outputs": []
    },
    {
      "cell_type": "code",
      "metadata": {
        "id": "81oh68LP8yEx",
        "colab_type": "code",
        "colab": {}
      },
      "source": [
        "#Let's split the DATE_TIME to date and time\n",
        "\n",
        "df_final_cells['Date'] = [d.date() for d in df_final_cells['DATE_TIME']\n",
        "df_final_cells['Time'] = [d.time() for d in df_final_cells['DATE_TIME']\n",
        "\n",
        "\n",
        "df_final_cells['Date'] = pd.to_datetime(df_final_cells['Date'])\n",
        " \n",
        "df_final_cells['Time'] = pd.to_datetime(df_final_cells['Time'], format='%H:%M:%S:%f', errors = 'ignore')\n",
        "\n",
        "\n"
      ],
      "execution_count": null,
      "outputs": []
    },
    {
      "cell_type": "markdown",
      "metadata": {
        "id": "LjVdh8tcEaK8",
        "colab_type": "text"
      },
      "source": [
        "# ***Data Analysis***"
      ]
    },
    {
      "cell_type": "code",
      "metadata": {
        "id": "y8maJv_SHER0",
        "colab_type": "code",
        "colab": {
          "base_uri": "https://localhost:8080/",
          "height": 248
        },
        "outputId": "beb62d7c-020f-4776-e9f4-49b5f21fe4b7"
      },
      "source": [
        "#which cities used the MTN products the most over the 3 days \n",
        "\n",
        "df_final_cells.groupby('City')['City'].count().sort_values(ascending = False)"
      ],
      "execution_count": 107,
      "outputs": [
        {
          "output_type": "execute_result",
          "data": {
            "text/plain": [
              "City\n",
              "YOPOUGON    8720\n",
              "ABOBO       6266\n",
              "COCODY      3814\n",
              "ADJAME      2702\n",
              "KOUMASSI    2333\n",
              "            ... \n",
              "LUEHOUAN       3\n",
              "PAKAOUBO       3\n",
              "MAHAPLEU       3\n",
              "KOTOULA        2\n",
              "DANANON        2\n",
              "Name: City, Length: 400, dtype: int64"
            ]
          },
          "metadata": {
            "tags": []
          },
          "execution_count": 107
        }
      ]
    },
    {
      "cell_type": "code",
      "metadata": {
        "id": "UrmCLsSw8Qfy",
        "colab_type": "code",
        "colab": {
          "base_uri": "https://localhost:8080/",
          "height": 231
        },
        "outputId": "38e024c8-daf7-4e50-e993-30aee9421f6b"
      },
      "source": [
        "#which one where the most used city for the 3 days\n",
        "#we can find by looking at the city with the most cell for 3 day \n",
        "df_final.groupby('Cell_ID').count().nlargest(5,'Product')"
      ],
      "execution_count": 87,
      "outputs": [
        {
          "output_type": "execute_result",
          "data": {
            "text/html": [
              "<div>\n",
              "<style scoped>\n",
              "    .dataframe tbody tr th:only-of-type {\n",
              "        vertical-align: middle;\n",
              "    }\n",
              "\n",
              "    .dataframe tbody tr th {\n",
              "        vertical-align: top;\n",
              "    }\n",
              "\n",
              "    .dataframe thead th {\n",
              "        text-align: right;\n",
              "    }\n",
              "</style>\n",
              "<table border=\"1\" class=\"dataframe\">\n",
              "  <thead>\n",
              "    <tr style=\"text-align: right;\">\n",
              "      <th></th>\n",
              "      <th>Product</th>\n",
              "      <th>Value</th>\n",
              "      <th>Date_Time</th>\n",
              "      <th>Cell_On_Site</th>\n",
              "      <th>DW_A_Number</th>\n",
              "      <th>DW_B_Number</th>\n",
              "      <th>Site_ID</th>\n",
              "    </tr>\n",
              "    <tr>\n",
              "      <th>Cell_ID</th>\n",
              "      <th></th>\n",
              "      <th></th>\n",
              "      <th></th>\n",
              "      <th></th>\n",
              "      <th></th>\n",
              "      <th></th>\n",
              "      <th></th>\n",
              "    </tr>\n",
              "  </thead>\n",
              "  <tbody>\n",
              "    <tr>\n",
              "      <th>ffa6759bb2</th>\n",
              "      <td>1996</td>\n",
              "      <td>1996</td>\n",
              "      <td>1996</td>\n",
              "      <td>1996</td>\n",
              "      <td>1996</td>\n",
              "      <td>1996</td>\n",
              "      <td>0</td>\n",
              "    </tr>\n",
              "    <tr>\n",
              "      <th>#NAME?</th>\n",
              "      <td>91</td>\n",
              "      <td>91</td>\n",
              "      <td>91</td>\n",
              "      <td>91</td>\n",
              "      <td>91</td>\n",
              "      <td>91</td>\n",
              "      <td>91</td>\n",
              "    </tr>\n",
              "    <tr>\n",
              "      <th>03ee801971</th>\n",
              "      <td>75</td>\n",
              "      <td>75</td>\n",
              "      <td>75</td>\n",
              "      <td>75</td>\n",
              "      <td>75</td>\n",
              "      <td>75</td>\n",
              "      <td>75</td>\n",
              "    </tr>\n",
              "    <tr>\n",
              "      <th>cc7ce19d6b</th>\n",
              "      <td>65</td>\n",
              "      <td>65</td>\n",
              "      <td>65</td>\n",
              "      <td>65</td>\n",
              "      <td>65</td>\n",
              "      <td>65</td>\n",
              "      <td>65</td>\n",
              "    </tr>\n",
              "    <tr>\n",
              "      <th>d22224b2fa</th>\n",
              "      <td>43</td>\n",
              "      <td>43</td>\n",
              "      <td>43</td>\n",
              "      <td>43</td>\n",
              "      <td>43</td>\n",
              "      <td>43</td>\n",
              "      <td>43</td>\n",
              "    </tr>\n",
              "  </tbody>\n",
              "</table>\n",
              "</div>"
            ],
            "text/plain": [
              "            Product  Value  Date_Time  ...  DW_A_Number  DW_B_Number  Site_ID\n",
              "Cell_ID                                ...                                   \n",
              "ffa6759bb2     1996   1996       1996  ...         1996         1996        0\n",
              "#NAME?           91     91         91  ...           91           91       91\n",
              "03ee801971       75     75         75  ...           75           75       75\n",
              "cc7ce19d6b       65     65         65  ...           65           65       65\n",
              "d22224b2fa       43     43         43  ...           43           43       43\n",
              "\n",
              "[5 rows x 7 columns]"
            ]
          },
          "metadata": {
            "tags": []
          },
          "execution_count": 87
        }
      ]
    },
    {
      "cell_type": "code",
      "metadata": {
        "id": "PxapDgU3M0N3",
        "colab_type": "code",
        "colab": {
          "base_uri": "https://localhost:8080/",
          "height": 106
        },
        "outputId": "ea318ec5-1d8b-478f-f7ce-5b50037de21b"
      },
      "source": [
        " # Most used product for the 3 Days\n",
        "df_final.groupby('Product')['Value'].sum()\n"
      ],
      "execution_count": null,
      "outputs": [
        {
          "output_type": "execute_result",
          "data": {
            "text/plain": [
              "Product\n",
              "Voice    309223\n",
              "data      16542\n",
              "sms       67955\n",
              "Name: Value, dtype: int64"
            ]
          },
          "metadata": {
            "tags": []
          },
          "execution_count": 58
        }
      ]
    },
    {
      "cell_type": "code",
      "metadata": {
        "id": "XcP_lkqmQzcK",
        "colab_type": "code",
        "colab": {
          "base_uri": "https://localhost:8080/",
          "height": 248
        },
        "outputId": "417e105b-c6bd-457a-e227-f69d9a671f17"
      },
      "source": [
        "#we can also find which is the busiest cell so that we can upgrade technology by expanding it\n",
        "#we can find by by calculating cell with the highest income mean \n",
        "df_final.groupby('Site_ID')['Value'].sum()"
      ],
      "execution_count": 18,
      "outputs": [
        {
          "output_type": "execute_result",
          "data": {
            "text/plain": [
              "Site_ID\n",
              "#NAME?        481\n",
              "+38u2u/rfx    186\n",
              "+854AcBQT2    154\n",
              "+R5ccmtyJf      0\n",
              "+ZaaZozy/+     60\n",
              "             ... \n",
              "feffc8c92b    297\n",
              "ff1b78ec81    322\n",
              "ffa6bdc032    499\n",
              "ffc9f56819    177\n",
              "fff5ac6e3f     28\n",
              "Name: Value, Length: 1346, dtype: int64"
            ]
          },
          "metadata": {
            "tags": []
          },
          "execution_count": 18
        }
      ]
    },
    {
      "cell_type": "code",
      "metadata": {
        "id": "AlmU4EzJHxb7",
        "colab_type": "code",
        "colab": {
          "base_uri": "https://localhost:8080/",
          "height": 1000
        },
        "outputId": "f0514f7e-81d3-41c3-edc8-535ceb48f88d"
      },
      "source": [
        "#which region /area used the MTN product highly\n",
        "df_final_cells.groupby(['Region','Area', 'Product'])['Product'].count().sort_values(ascending = False)\n",
        "\n"
      ],
      "execution_count": 113,
      "outputs": [
        {
          "output_type": "execute_result",
          "data": {
            "text/plain": [
              "Region             Area           Product\n",
              "LAGUNE             ABIDJAN NORTH  sms        15838\n",
              "                                  Voice       8764\n",
              "                   ABIDJAN SOUTH  sms         4908\n",
              "                                  Voice       3753\n",
              "BAS SASSANDRA      SOUTH WEST     sms         1286\n",
              "HAUT SASSANDRA     NORTH WEST     sms         1281\n",
              "LACS               CENTRE NORTH   sms         1264\n",
              "                                  Voice       1220\n",
              "BAS SASSANDRA      SOUTH WEST     Voice       1082\n",
              "HAUT SASSANDRA     NORTH WEST     Voice       1026\n",
              "SUD BANDAMA        SOUTH WEST     sms          843\n",
              "VALLEE DU BANDAMA  CENTRE NORTH   Voice        828\n",
              "                                  sms          747\n",
              "SAVANE             CENTRE NORTH   Voice        642\n",
              "SUD BANDAMA        SOUTH WEST     Voice        618\n",
              "FROMAGER           SOUTH WEST     sms          555\n",
              "18 MONTAGNES       NORTH WEST     sms          504\n",
              "                                  Voice        453\n",
              "SAVANE             CENTRE NORTH   sms          375\n",
              "WORODOUGOU         NORTH WEST     Voice        372\n",
              "FROMAGER           SOUTH WEST     Voice        361\n",
              "AGNEBY             EAST           sms          324\n",
              "MOYEN CAVALLY      NORTH WEST     Voice        306\n",
              "AGNEBY             EAST           Voice        280\n",
              "DENGUELE           NORTH WEST     Voice        251\n",
              "ZANZAN             EAST           Voice        243\n",
              "MOYEN CAVALLY      NORTH WEST     sms          225\n",
              "WORODOUGOU         NORTH WEST     sms          219\n",
              "MARAHOUE           NORTH WEST     Voice        210\n",
              "NZI COMOE          CENTRE NORTH   Voice        189\n",
              "MOYEN COMOE        EAST           Voice        186\n",
              "WORODOUGOU         CENTRE NORTH   Voice        180\n",
              "NZI COMOE          EAST           Voice        176\n",
              "DENGUELE           NORTH WEST     sms          147\n",
              "MOYEN COMOE        EAST           sms          135\n",
              "MARAHOUE           CENTRE NORTH   Voice        129\n",
              "SUD COMOE          ABIDJAN SOUTH  Voice        115\n",
              "NZI COMOE          EAST           sms          108\n",
              "                   CENTRE NORTH   sms           98\n",
              "ZANZAN             EAST           sms           93\n",
              "MARAHOUE           SOUTH WEST     sms           93\n",
              "SUD COMOE          ABIDJAN SOUTH  sms           90\n",
              "MARAHOUE           NORTH WEST     sms           87\n",
              "                   CENTRE NORTH   sms           72\n",
              "LAGUNE             SOUTH WEST     Voice         69\n",
              "BAFING             NORTH WEST     Voice         60\n",
              "SUD BANDAMA        CENTRE NORTH   Voice         54\n",
              "LAGUNE             SOUTH WEST     sms           39\n",
              "BAFING             NORTH WEST     sms           36\n",
              "LAGUNE             CENTRE NORTH   sms           33\n",
              "MARAHOUE           SOUTH WEST     Voice         30\n",
              "WORODOUGOU         CENTRE NORTH   sms           24\n",
              "LAGUNE             CENTRE NORTH   Voice         24\n",
              "BAS SASSANDRA      NORTH WEST     sms           18\n",
              "SUD BANDAMA        CENTRE NORTH   sms           18\n",
              "BAS SASSANDRA      NORTH WEST     Voice          9\n",
              "BAFING             CENTRE NORTH   Voice          6\n",
              "HAUT SASSANDRA     SOUTH WEST     Voice          6\n",
              "SUD COMOE          ABIDJAN NORTH  sms            3\n",
              "Name: Product, dtype: int64"
            ]
          },
          "metadata": {
            "tags": []
          },
          "execution_count": 113
        }
      ]
    },
    {
      "cell_type": "code",
      "metadata": {
        "id": "U3-4NYxUFv4U",
        "colab_type": "code",
        "colab": {}
      },
      "source": [
        "#Which cities were the most used during business and home hours?\n",
        "\n",
        "business_hours = df_final_cells[(df_final_cells ['Date_Time'].dt.time >= datetime.time(9)) & (df_final_cells['datetime'].dt.time <= datetime.time(17))]\n",
        "\n",
        "business_hours.head()\n",
        "\n",
        "\n"
      ],
      "execution_count": null,
      "outputs": []
    },
    {
      "cell_type": "code",
      "metadata": {
        "id": "V7g-obpYX-Vc",
        "colab_type": "code",
        "colab": {
          "base_uri": "https://localhost:8080/",
          "height": 248
        },
        "outputId": "096b5a6c-cc0b-4650-9cc9-370e100725df"
      },
      "source": [
        "#Busiest time of the day\n",
        "#we can find this by max cell on site at the date time\n",
        "\n",
        "df_final.groupby('Date_Time')['Cell_On_Site'].max()\n"
      ],
      "execution_count": 75,
      "outputs": [
        {
          "output_type": "execute_result",
          "data": {
            "text/plain": [
              "Date_Time\n",
              "00:00.0    _\n",
              "00:01.0    _\n",
              "00:02.0    _\n",
              "00:03.0    _\n",
              "00:04.0    _\n",
              "          ..\n",
              "59:54.0    0\n",
              "59:55.0    1\n",
              "59:56.0    1\n",
              "59:57.0    0\n",
              "59:58.0    4\n",
              "Name: Cell_On_Site, Length: 1581, dtype: object"
            ]
          },
          "metadata": {
            "tags": []
          },
          "execution_count": 75
        }
      ]
    },
    {
      "cell_type": "code",
      "metadata": {
        "id": "K356JFcL-YBP",
        "colab_type": "code",
        "colab": {
          "base_uri": "https://localhost:8080/",
          "height": 248
        },
        "outputId": "21538ffb-0091-4182-d741-c74398f637bf"
      },
      "source": [
        "#which region used most product and which product was it \n",
        "df_final_cells .groupby(['City', 'Product'])['Product'].count().sort_values(ascending = False)"
      ],
      "execution_count": 122,
      "outputs": [
        {
          "output_type": "execute_result",
          "data": {
            "text/plain": [
              "City        Product\n",
              "YOPOUGON    sms        5679\n",
              "ABOBO       sms        4300\n",
              "YOPOUGON    Voice      3041\n",
              "COCODY      sms        2105\n",
              "ABOBO       Voice      1966\n",
              "                       ... \n",
              "GOULIA      Voice         3\n",
              "GOMENEBERI  Voice         3\n",
              "KODIOSSOU   Voice         3\n",
              "DANANON     Voice         2\n",
              "KOTOULA     Voice         2\n",
              "Name: Product, Length: 601, dtype: int64"
            ]
          },
          "metadata": {
            "tags": []
          },
          "execution_count": 122
        }
      ]
    },
    {
      "cell_type": "code",
      "metadata": {
        "id": "W01UodMgMhq1",
        "colab_type": "code",
        "colab": {}
      },
      "source": [
        "business_hours.groupby('Product')['Product'].count().sort_values(ascending = False).head(10)"
      ],
      "execution_count": null,
      "outputs": []
    }
  ]
}